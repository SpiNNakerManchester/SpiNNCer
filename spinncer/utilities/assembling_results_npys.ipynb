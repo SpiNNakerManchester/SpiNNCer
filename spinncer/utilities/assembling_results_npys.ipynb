{
 "cells": [
  {
   "cell_type": "code",
   "execution_count": 182,
   "metadata": {},
   "outputs": [],
   "source": [
    "import os\n",
    "import numpy as np\n",
    "import matplotlib.pyplot as plt\n",
    "%matplotlib inline\n"
   ]
  },
  {
   "cell_type": "code",
   "execution_count": 209,
   "metadata": {},
   "outputs": [
    {
     "name": "stdout",
     "output_type": "stream",
     "text": [
      "gj_sc (2411, 4)\n",
      "glom_goc (14302, 4)\n",
      "bc_pc (1379, 4)\n",
      "goc_grc (206092, 4)\n",
      "gj_bc (2411, 4)\n",
      "pf_sc (615177, 4)\n",
      "pf_pc (1957902, 4)\n",
      "gj_goc (7395, 4)\n",
      "pc_dcn (314, 4)\n",
      "aa_goc (79072, 4)\n",
      "aa_pc (17256, 4)\n",
      "pf_goc (350399, 4)\n",
      "sc_pc (1379, 4)\n",
      "glom_dcn (1763, 4)\n",
      "pf_bc (604489, 4)\n",
      "glom_grc (352474, 4)\n",
      "Conn file datasets/scaffold_full_dcn_400.0x400.0_v3.hdf5\n",
      "{'basket': 603, 'stellate': 603, 'golgi': 219, 'granule': 88158, 'purkinje': 69, 'glomerulus': 7073, 'dcn': 12}\n",
      "{'basket': 95519, 'stellate': 96122, 'golgi': 0, 'granule': 7292, 'purkinje': 95450, 'glomerulus': 219, 'dcn': 96725}\n"
     ]
    }
   ],
   "source": [
    "\n",
    "# Select the scaffold size : '158' or '400'\n",
    "sim_size = '400'\n",
    "conv_constants = np.load(\"{}x{}_conversion_constants.npz\".format(sim_size, sim_size))\n",
    "# Select cell type: 'granule', 'golgi', 'glomerulus', 'basket', 'dcn', 'purkinje' or 'stellate'\n",
    "cell_type = ['granule', 'golgi', 'glomerulus', 'basket', 'dcn', 'purkinje', 'stellate']\n",
    "\n",
    "\n",
    "\n",
    "\n",
    "# folder_name = \"casali_spikes_400\"\n",
    "folder_name = \"casali_spikes_400_stim_70\"\n",
    "# folder_name = \"casali_spikes_400_stim_140\"\n",
    "\n",
    "stim_times = [300, 50, 650]\n",
    "sim_params = {'argparser':{'timestep':0.1,\n",
    "                          'stim_times':stim_times,\n",
    "                          'periodic_stimulus':True,\n",
    "                          'stim_radius':70}}\n",
    "simtime = 1000\n",
    "sim_duration = 1000\n",
    "all_spikes = {}\n",
    "# all_spikes['158'] = {k: None for k in cell_type}\n",
    "all_spikes = {k: None for k in cell_type}\n",
    "final_connectivity = {k: [] for k in cell_type}\n",
    "stimulus_information = {\n",
    "    'f_base': 1,\n",
    "    'f_peak': 152,\n",
    "    'stim_times': stim_times\n",
    "}\n",
    "\n",
    "all_neurons = {}\n",
    "# all_neurons['158'] = {\n",
    "#         \"golgi\":34,\n",
    "#         \"glomerulus\":1111,\n",
    "#         \"granule\":13584,\n",
    "#         \"purkinje\":9,\n",
    "#         \"basket\":96,\n",
    "#         \"stellate\":96,\n",
    "#         \"dcn\":8 }\n",
    "# other_recordings = {'v':{}}\n",
    "all_neurons = conv_constants['all_neurons'].ravel()[0]\n",
    "nid_offsets = conv_constants['nid_offsets'].ravel()[0]\n",
    "connectivity = conv_constants['connectivity'].ravel()[0]\n",
    "for k, v in connectivity.items():\n",
    "    if v is not None:\n",
    "        print(k, v.shape)\n",
    "print(\"Conn file\", conv_constants['connectivity_file'])\n",
    "\n",
    "print(all_neurons)\n",
    "\n",
    "print(nid_offsets)\n",
    "# all_neurons = {\n",
    "#         \"golgi\":219,\n",
    "#         \"glomerulus\":7070,\n",
    "#         \"granule\":88158,\n",
    "#         \"purkinje\":69,\n",
    "#         \"basket\":603,\n",
    "#         \"stellate\":603,\n",
    "#         \"dcn\":12}"
   ]
  },
  {
   "cell_type": "code",
   "execution_count": null,
   "metadata": {},
   "outputs": [],
   "source": []
  },
  {
   "cell_type": "code",
   "execution_count": 210,
   "metadata": {},
   "outputs": [
    {
     "data": {
      "text/plain": [
       "1"
      ]
     },
     "execution_count": 210,
     "metadata": {},
     "output_type": "execute_result"
    }
   ],
   "source": [
    "np.asarray(None).size"
   ]
  },
  {
   "cell_type": "code",
   "execution_count": 211,
   "metadata": {},
   "outputs": [
    {
     "data": {
      "text/plain": [
       "dict_keys(['basket', 'purkinje', 'glomerulus', 'stellate', 'granule', 'golgi', 'dcn'])"
      ]
     },
     "execution_count": 211,
     "metadata": {},
     "output_type": "execute_result"
    }
   ],
   "source": [
    "all_spikes.keys()"
   ]
  },
  {
   "cell_type": "code",
   "execution_count": 244,
   "metadata": {},
   "outputs": [],
   "source": [
    "def load_v(keys, dir):\n",
    "    vs = {k: None for k in keys}\n",
    "    for key in keys:\n",
    "        print(\"Key:\", key)\n",
    "        try:\n",
    "            vs[key] = {'v':np.load(os.path.join(dir, key + \"_v.npy\"))}\n",
    "            min_gid =  np.min(vs[key]['v'][:, 0])\n",
    "            vs[key]['v'][:, 0] -= min_gid\n",
    "            print(\"\\tmin GID\", np.min(vs[key]['v'][:, 0]))\n",
    "        except Exception as e:\n",
    "            print(e)\n",
    "    return vs"
   ]
  },
  {
   "cell_type": "code",
   "execution_count": 245,
   "metadata": {},
   "outputs": [],
   "source": [
    "def better_load_spikes(keys, dir, nid_offsets, extra_sub=0):\n",
    "    spikes = {k: {} for k in keys}\n",
    "    for key in keys:\n",
    "        print(\"=\"*80)\n",
    "        print(\"Key:\", key)\n",
    "        spikes[key] = np.load(os.path.join(dir, key + \".npy\"))\n",
    "        min_gid =  int(np.min(spikes[key][:, 0]))\n",
    "        unique_gids = np.unique(spikes[key][:, 0].astype(int))\n",
    "        print(\"\\tno unique GIDs\", unique_gids.size)\n",
    "        print(\"\\tunique GIDs\\n\", unique_gids)\n",
    "        print(\"\\toriginal min GID\", min_gid)\n",
    "        spikes[key][:, 0] = spikes[key][:, 0].astype(int) - nid_offsets[key] - extra_sub\n",
    "        \n",
    "        print(\"\\tpredefined nid offset\", nid_offsets[key])\n",
    "        empirical_min_gid = np.min(spikes[key][:, 0])\n",
    "        print(\"\\tmin GID\", empirical_min_gid)\n",
    "        print(\"\\tcount min GID\", np.count_nonzero(\n",
    "            spikes[key][:, 0]==empirical_min_gid))\n",
    "        if empirical_min_gid < 0: \n",
    "            spikes[key] = spikes[key][spikes[key][:, 0]!=empirical_min_gid]\n",
    "            new_empirical_min_gid = np.min(spikes[key][:, 0])\n",
    "            print(\"\\tnew min GID\", new_empirical_min_gid)\n",
    "    return spikes"
   ]
  },
  {
   "cell_type": "code",
   "execution_count": 246,
   "metadata": {},
   "outputs": [
    {
     "name": "stdout",
     "output_type": "stream",
     "text": [
      "================================================================================\n",
      "Key: granule\n",
      "\tno unique GIDs 68362\n",
      "\tunique GIDs\n",
      " [    0  7293  7294 ... 95448 95449 95450]\n",
      "\toriginal min GID 0\n",
      "\tpredefined nid offset 7292\n",
      "\tmin GID -7293.0\n",
      "\tcount min GID 1\n",
      "\tnew min GID 0.0\n",
      "================================================================================\n",
      "Key: golgi\n",
      "\tno unique GIDs 217\n",
      "\tunique GIDs\n",
      " [  0   1   2   3   4   5   6   7   8   9  10  11  12  13  14  15  16  17\n",
      "  18  19  20  21  22  23  24  25  26  27  28  29  30  31  32  33  34  35\n",
      "  36  37  38  39  40  41  42  43  44  45  46  47  48  49  50  51  52  53\n",
      "  54  55  56  57  58  59  60  61  62  63  64  65  66  67  68  69  70  71\n",
      "  72  73  74  75  76  77  78  79  80  81  82  83  84  85  86  87  88  89\n",
      "  90  91  92  93  94  95  96  97  98  99 100 101 102 103 104 105 106 107\n",
      " 108 109 110 111 112 113 114 115 116 117 118 119 120 121 122 123 124 125\n",
      " 126 127 128 129 130 131 132 133 134 135 136 137 138 139 140 141 142 143\n",
      " 144 145 146 147 148 149 150 151 153 154 155 156 157 158 159 160 161 162\n",
      " 163 164 165 166 167 168 169 170 171 172 173 174 175 176 177 179 180 182\n",
      " 183 184 185 186 187 188 189 190 191 192 193 194 195 196 197 198 199 200\n",
      " 201 202 203 204 205 206 207 208 209 210 211 212 213 214 215 216 217 218\n",
      " 219]\n",
      "\toriginal min GID 0\n",
      "\tpredefined nid offset 0\n",
      "\tmin GID -1.0\n",
      "\tcount min GID 1\n",
      "\tnew min GID 0.0\n",
      "================================================================================\n",
      "Key: glomerulus\n",
      "\tno unique GIDs 4708\n",
      "\tunique GIDs\n",
      " [   0  222  223 ... 7290 7291 7292]\n",
      "\toriginal min GID 0\n",
      "\tpredefined nid offset 219\n",
      "\tmin GID -220.0\n",
      "\tcount min GID 1\n",
      "\tnew min GID 2.0\n",
      "================================================================================\n",
      "Key: basket\n",
      "\tno unique GIDs 602\n",
      "\tunique GIDs\n",
      " [    0 95520 95521 95522 95523 95524 95526 95527 95528 95529 95530 95531\n",
      " 95532 95533 95534 95535 95536 95537 95538 95539 95540 95541 95542 95543\n",
      " 95544 95545 95546 95547 95548 95549 95550 95551 95552 95553 95554 95555\n",
      " 95556 95557 95558 95559 95560 95561 95562 95563 95564 95565 95566 95567\n",
      " 95568 95569 95570 95571 95572 95573 95574 95575 95576 95577 95578 95579\n",
      " 95580 95581 95582 95583 95584 95585 95586 95587 95588 95589 95590 95591\n",
      " 95593 95594 95595 95596 95597 95598 95599 95600 95601 95602 95603 95604\n",
      " 95605 95606 95607 95608 95609 95610 95611 95612 95613 95614 95615 95616\n",
      " 95617 95618 95619 95620 95621 95622 95623 95624 95625 95626 95627 95628\n",
      " 95629 95630 95631 95632 95633 95634 95635 95636 95637 95638 95639 95640\n",
      " 95641 95642 95643 95644 95645 95646 95647 95648 95649 95650 95651 95652\n",
      " 95653 95654 95655 95656 95657 95658 95659 95660 95661 95662 95663 95664\n",
      " 95665 95666 95667 95668 95669 95670 95671 95672 95673 95674 95675 95676\n",
      " 95677 95678 95679 95680 95681 95682 95683 95684 95685 95686 95687 95688\n",
      " 95689 95690 95691 95692 95693 95694 95695 95696 95697 95698 95699 95700\n",
      " 95701 95702 95703 95704 95705 95706 95707 95708 95709 95710 95711 95712\n",
      " 95713 95714 95715 95716 95717 95718 95719 95720 95721 95722 95723 95724\n",
      " 95725 95726 95727 95728 95729 95730 95731 95732 95733 95734 95735 95736\n",
      " 95737 95738 95739 95740 95741 95742 95743 95744 95745 95746 95747 95748\n",
      " 95749 95750 95751 95752 95753 95754 95755 95756 95757 95758 95759 95760\n",
      " 95761 95762 95763 95764 95765 95766 95767 95768 95769 95770 95771 95772\n",
      " 95773 95774 95775 95776 95777 95778 95779 95780 95781 95782 95783 95784\n",
      " 95785 95786 95787 95788 95789 95790 95791 95792 95793 95794 95795 95796\n",
      " 95797 95798 95799 95800 95801 95802 95803 95804 95805 95806 95807 95808\n",
      " 95809 95810 95811 95812 95813 95814 95815 95816 95817 95818 95819 95820\n",
      " 95821 95822 95823 95824 95825 95826 95827 95828 95829 95830 95831 95832\n",
      " 95833 95834 95835 95836 95837 95838 95839 95840 95841 95842 95843 95844\n",
      " 95845 95846 95847 95848 95849 95850 95851 95852 95853 95854 95855 95856\n",
      " 95857 95858 95859 95860 95861 95862 95863 95864 95865 95866 95867 95868\n",
      " 95869 95870 95871 95872 95873 95874 95875 95876 95877 95878 95879 95880\n",
      " 95881 95882 95883 95884 95885 95886 95887 95888 95889 95890 95891 95892\n",
      " 95893 95894 95895 95896 95897 95898 95899 95900 95901 95902 95903 95904\n",
      " 95905 95906 95907 95908 95909 95910 95911 95912 95913 95914 95915 95916\n",
      " 95917 95918 95919 95920 95921 95922 95923 95924 95925 95926 95927 95928\n",
      " 95929 95930 95931 95932 95933 95934 95935 95936 95937 95938 95939 95940\n",
      " 95941 95942 95943 95944 95945 95946 95947 95948 95949 95950 95951 95952\n",
      " 95953 95954 95955 95956 95957 95958 95959 95960 95961 95962 95963 95964\n",
      " 95965 95966 95967 95968 95969 95970 95971 95972 95973 95974 95975 95976\n",
      " 95977 95978 95979 95980 95981 95982 95983 95984 95985 95986 95987 95988\n",
      " 95989 95990 95991 95992 95993 95994 95995 95996 95997 95998 95999 96000\n",
      " 96001 96002 96003 96004 96005 96006 96007 96008 96009 96010 96011 96012\n",
      " 96013 96014 96015 96016 96017 96018 96019 96020 96021 96022 96023 96024\n",
      " 96025 96026 96027 96028 96029 96030 96031 96032 96033 96034 96035 96036\n",
      " 96037 96038 96039 96040 96041 96042 96043 96044 96045 96046 96047 96048\n",
      " 96049 96050 96051 96052 96053 96054 96055 96056 96057 96058 96059 96060\n",
      " 96061 96062 96063 96064 96065 96066 96067 96068 96069 96070 96071 96072\n",
      " 96073 96074 96075 96076 96077 96078 96079 96080 96081 96082 96083 96084\n",
      " 96085 96086 96087 96088 96089 96090 96091 96092 96093 96094 96095 96096\n",
      " 96097 96098 96099 96100 96101 96102 96103 96104 96105 96106 96107 96108\n",
      " 96109 96110 96111 96112 96113 96114 96115 96116 96117 96118 96119 96120\n",
      " 96121 96122]\n",
      "\toriginal min GID 0\n",
      "\tpredefined nid offset 95519\n",
      "\tmin GID -95520.0\n",
      "\tcount min GID 1\n",
      "\tnew min GID 0.0\n",
      "================================================================================\n",
      "Key: dcn\n",
      "\tno unique GIDs 13\n",
      "\tunique GIDs\n",
      " [    0 96726 96727 96728 96729 96730 96731 96732 96733 96734 96735 96736\n",
      " 96737]\n",
      "\toriginal min GID 0\n",
      "\tpredefined nid offset 96725\n",
      "\tmin GID -96726.0\n",
      "\tcount min GID 1\n",
      "\tnew min GID 0.0\n",
      "================================================================================\n",
      "Key: purkinje\n",
      "\tno unique GIDs 70\n",
      "\tunique GIDs\n",
      " [    0 95451 95452 95453 95454 95455 95456 95457 95458 95459 95460 95461\n",
      " 95462 95463 95464 95465 95466 95467 95468 95469 95470 95471 95472 95473\n",
      " 95474 95475 95476 95477 95478 95479 95480 95481 95482 95483 95484 95485\n",
      " 95486 95487 95488 95489 95490 95491 95492 95493 95494 95495 95496 95497\n",
      " 95498 95499 95500 95501 95502 95503 95504 95505 95506 95507 95508 95509\n",
      " 95510 95511 95512 95513 95514 95515 95516 95517 95518 95519]\n",
      "\toriginal min GID 0\n",
      "\tpredefined nid offset 95450\n",
      "\tmin GID -95451.0\n",
      "\tcount min GID 1\n",
      "\tnew min GID 0.0\n",
      "================================================================================\n",
      "Key: stellate\n",
      "\tno unique GIDs 604\n",
      "\tunique GIDs\n",
      " [    0 96123 96124 96125 96126 96127 96128 96129 96130 96131 96132 96133\n",
      " 96134 96135 96136 96137 96138 96139 96140 96141 96142 96143 96144 96145\n",
      " 96146 96147 96148 96149 96150 96151 96152 96153 96154 96155 96156 96157\n",
      " 96158 96159 96160 96161 96162 96163 96164 96165 96166 96167 96168 96169\n",
      " 96170 96171 96172 96173 96174 96175 96176 96177 96178 96179 96180 96181\n",
      " 96182 96183 96184 96185 96186 96187 96188 96189 96190 96191 96192 96193\n",
      " 96194 96195 96196 96197 96198 96199 96200 96201 96202 96203 96204 96205\n",
      " 96206 96207 96208 96209 96210 96211 96212 96213 96214 96215 96216 96217\n",
      " 96218 96219 96220 96221 96222 96223 96224 96225 96226 96227 96228 96229\n",
      " 96230 96231 96232 96233 96234 96235 96236 96237 96238 96239 96240 96241\n",
      " 96242 96243 96244 96245 96246 96247 96248 96249 96250 96251 96252 96253\n",
      " 96254 96255 96256 96257 96258 96259 96260 96261 96262 96263 96264 96265\n",
      " 96266 96267 96268 96269 96270 96271 96272 96273 96274 96275 96276 96277\n",
      " 96278 96279 96280 96281 96282 96283 96284 96285 96286 96287 96288 96289\n",
      " 96290 96291 96292 96293 96294 96295 96296 96297 96298 96299 96300 96301\n",
      " 96302 96303 96304 96305 96306 96307 96308 96309 96310 96311 96312 96313\n",
      " 96314 96315 96316 96317 96318 96319 96320 96321 96322 96323 96324 96325\n",
      " 96326 96327 96328 96329 96330 96331 96332 96333 96334 96335 96336 96337\n",
      " 96338 96339 96340 96341 96342 96343 96344 96345 96346 96347 96348 96349\n",
      " 96350 96351 96352 96353 96354 96355 96356 96357 96358 96359 96360 96361\n",
      " 96362 96363 96364 96365 96366 96367 96368 96369 96370 96371 96372 96373\n",
      " 96374 96375 96376 96377 96378 96379 96380 96381 96382 96383 96384 96385\n",
      " 96386 96387 96388 96389 96390 96391 96392 96393 96394 96395 96396 96397\n",
      " 96398 96399 96400 96401 96402 96403 96404 96405 96406 96407 96408 96409\n",
      " 96410 96411 96412 96413 96414 96415 96416 96417 96418 96419 96420 96421\n",
      " 96422 96423 96424 96425 96426 96427 96428 96429 96430 96431 96432 96433\n",
      " 96434 96435 96436 96437 96438 96439 96440 96441 96442 96443 96444 96445\n",
      " 96446 96447 96448 96449 96450 96451 96452 96453 96454 96455 96456 96457\n",
      " 96458 96459 96460 96461 96462 96463 96464 96465 96466 96467 96468 96469\n",
      " 96470 96471 96472 96473 96474 96475 96476 96477 96478 96479 96480 96481\n",
      " 96482 96483 96484 96485 96486 96487 96488 96489 96490 96491 96492 96493\n",
      " 96494 96495 96496 96497 96498 96499 96500 96501 96502 96503 96504 96505\n",
      " 96506 96507 96508 96509 96510 96511 96512 96513 96514 96515 96516 96517\n",
      " 96518 96519 96520 96521 96522 96523 96524 96525 96526 96527 96528 96529\n",
      " 96530 96531 96532 96533 96534 96535 96536 96537 96538 96539 96540 96541\n",
      " 96542 96543 96544 96545 96546 96547 96548 96549 96550 96551 96552 96553\n",
      " 96554 96555 96556 96557 96558 96559 96560 96561 96562 96563 96564 96565\n",
      " 96566 96567 96568 96569 96570 96571 96572 96573 96574 96575 96576 96577\n",
      " 96578 96579 96580 96581 96582 96583 96584 96585 96586 96587 96588 96589\n",
      " 96590 96591 96592 96593 96594 96595 96596 96597 96598 96599 96600 96601\n",
      " 96602 96603 96604 96605 96606 96607 96608 96609 96610 96611 96612 96613\n",
      " 96614 96615 96616 96617 96618 96619 96620 96621 96622 96623 96624 96625\n",
      " 96626 96627 96628 96629 96630 96631 96632 96633 96634 96635 96636 96637\n",
      " 96638 96639 96640 96641 96642 96643 96644 96645 96646 96647 96648 96649\n",
      " 96650 96651 96652 96653 96654 96655 96656 96657 96658 96659 96660 96661\n",
      " 96662 96663 96664 96665 96666 96667 96668 96669 96670 96671 96672 96673\n",
      " 96674 96675 96676 96677 96678 96679 96680 96681 96682 96683 96684 96685\n",
      " 96686 96687 96688 96689 96690 96691 96692 96693 96694 96695 96696 96697\n",
      " 96698 96699 96700 96701 96702 96703 96704 96705 96706 96707 96708 96709\n",
      " 96710 96711 96712 96713 96714 96715 96716 96717 96718 96719 96720 96721\n",
      " 96722 96723 96724 96725]\n",
      "\toriginal min GID 0\n",
      "\tpredefined nid offset 96122\n",
      "\tmin GID -96123.0\n",
      "\tcount min GID 1\n",
      "\tnew min GID 0.0\n"
     ]
    }
   ],
   "source": [
    "all_spikes = better_load_spikes(cell_type, folder_name, nid_offsets, extra_sub=1)"
   ]
  },
  {
   "cell_type": "code",
   "execution_count": 247,
   "metadata": {},
   "outputs": [
    {
     "name": "stdout",
     "output_type": "stream",
     "text": [
      "Key: granule\n",
      "[Errno 2] No such file or directory: 'casali_spikes_400_stim_70/granule_v.npy'\n",
      "Key: golgi\n",
      "[Errno 2] No such file or directory: 'casali_spikes_400_stim_70/golgi_v.npy'\n",
      "Key: glomerulus\n",
      "[Errno 2] No such file or directory: 'casali_spikes_400_stim_70/glomerulus_v.npy'\n",
      "Key: basket\n",
      "[Errno 2] No such file or directory: 'casali_spikes_400_stim_70/basket_v.npy'\n",
      "Key: dcn\n",
      "[Errno 2] No such file or directory: 'casali_spikes_400_stim_70/dcn_v.npy'\n",
      "Key: purkinje\n",
      "\tmin GID 0.0\n",
      "Key: stellate\n",
      "[Errno 2] No such file or directory: 'casali_spikes_400_stim_70/stellate_v.npy'\n"
     ]
    }
   ],
   "source": [
    "other_recordings = load_v(cell_type, folder_name)"
   ]
  },
  {
   "cell_type": "code",
   "execution_count": 248,
   "metadata": {},
   "outputs": [],
   "source": [
    "np.savez_compressed(\"gold_standard_results_400_stim_radius_70\", \n",
    "                    simulation_parameters=sim_params,\n",
    "                    all_spikes=all_spikes,\n",
    "                    all_neurons=all_neurons,\n",
    "                    other_recordings=other_recordings,\n",
    "                    final_connectivity=connectivity,\n",
    "                    initial_connectivity=connectivity,\n",
    "                    stimulus_params=stimulus_information,\n",
    "                    simtime=simtime,\n",
    "                    assembled_from=\"email from Stefano Casali 20/12/2019\")"
   ]
  },
  {
   "cell_type": "code",
   "execution_count": 48,
   "metadata": {},
   "outputs": [],
   "source": [
    "def plot_psth(cell_type, sim_size):\n",
    "    fname = list(filter(lambda x : cell_type in x and sim_size in x, os.listdir('.')))[0]\n",
    "\n",
    "    # File spike data\n",
    "    # 1st column = GIDs\n",
    "    # 2nd columns = spike times\n",
    "    # NOTE: the first row must be excluded\n",
    "    spikes = np.load(fname)[1::,:]\n",
    "\n",
    "    # Select bin size\n",
    "    nBins = int(round(sim_duration / 30))\n",
    "\n",
    "    fig = plt.figure()\n",
    "    # Plot PSTH for the selected cell type\n",
    "    plt.hist(spikes[:,1], nBins)\n",
    "    plt.xlim(0,sim_duration)\n",
    "    plt.title(str(cell_type))\n",
    "    plt.savefig(\"figures/psth_{}_{}.png\".format(sim_size, cell_type))\n",
    "    plt.show()\n",
    "    plt.close(fig)"
   ]
  },
  {
   "cell_type": "code",
   "execution_count": 29,
   "metadata": {},
   "outputs": [
    {
     "name": "stdout",
     "output_type": "stream",
     "text": [
      "Plotting PSTH for granule\n"
     ]
    },
    {
     "data": {
      "image/png": "[encoded data removed]",
      "text/plain": [
       "<Figure size 432x288 with 1 Axes>"
      ]
     },
     "metadata": {
      "needs_background": "light"
     },
     "output_type": "display_data"
    },
    {
     "name": "stdout",
     "output_type": "stream",
     "text": [
      "Plotting PSTH for golgi\n"
     ]
    },
    {
     "data": {
      "image/png": "[encoded data removed]",
      "text/plain": [
       "<Figure size 432x288 with 1 Axes>"
      ]
     },
     "metadata": {
      "needs_background": "light"
     },
     "output_type": "display_data"
    },
    {
     "name": "stdout",
     "output_type": "stream",
     "text": [
      "Plotting PSTH for glomerulus\n"
     ]
    },
    {
     "data": {
      "image/png": "[encoded data removed]",
      "text/plain": [
       "<Figure size 432x288 with 1 Axes>"
      ]
     },
     "metadata": {
      "needs_background": "light"
     },
     "output_type": "display_data"
    },
    {
     "name": "stdout",
     "output_type": "stream",
     "text": [
      "Plotting PSTH for basket\n"
     ]
    },
    {
     "data": {
      "image/png": "[encoded data removed]",
      "text/plain": [
       "<Figure size 432x288 with 1 Axes>"
      ]
     },
     "metadata": {
      "needs_background": "light"
     },
     "output_type": "display_data"
    },
    {
     "name": "stdout",
     "output_type": "stream",
     "text": [
      "Plotting PSTH for dcn\n"
     ]
    },
    {
     "data": {
      "image/png": "[encoded data removed]",
      "text/plain": [
       "<Figure size 432x288 with 1 Axes>"
      ]
     },
     "metadata": {
      "needs_background": "light"
     },
     "output_type": "display_data"
    },
    {
     "name": "stdout",
     "output_type": "stream",
     "text": [
      "Plotting PSTH for purkinje\n"
     ]
    },
    {
     "data": {
      "image/png": "[encoded data removed]",
      "text/plain": [
       "<Figure size 432x288 with 1 Axes>"
      ]
     },
     "metadata": {
      "needs_background": "light"
     },
     "output_type": "display_data"
    },
    {
     "name": "stdout",
     "output_type": "stream",
     "text": [
      "Plotting PSTH for stellate\n"
     ]
    },
    {
     "data": {
      "image/png": "[encoded data removed]",
      "text/plain": [
       "<Figure size 432x288 with 1 Axes>"
      ]
     },
     "metadata": {
      "needs_background": "light"
     },
     "output_type": "display_data"
    }
   ],
   "source": [
    "for cell in cell_type:\n",
    "    print(\"Plotting PSTH for\", cell)\n",
    "    plot_psth(cell, '158')"
   ]
  },
  {
   "cell_type": "code",
   "execution_count": 30,
   "metadata": {},
   "outputs": [
    {
     "name": "stdout",
     "output_type": "stream",
     "text": [
      "Plotting PSTH for granule\n"
     ]
    },
    {
     "data": {
      "image/png": "[encoded data removed]",
      "text/plain": [
       "<Figure size 432x288 with 1 Axes>"
      ]
     },
     "metadata": {
      "needs_background": "light"
     },
     "output_type": "display_data"
    },
    {
     "name": "stdout",
     "output_type": "stream",
     "text": [
      "Plotting PSTH for golgi\n"
     ]
    },
    {
     "data": {
      "image/png": "[encoded data removed]",
      "text/plain": [
       "<Figure size 432x288 with 1 Axes>"
      ]
     },
     "metadata": {
      "needs_background": "light"
     },
     "output_type": "display_data"
    },
    {
     "name": "stdout",
     "output_type": "stream",
     "text": [
      "Plotting PSTH for glomerulus\n"
     ]
    },
    {
     "data": {
      "image/png": "[encoded data removed]",
      "text/plain": [
       "<Figure size 432x288 with 1 Axes>"
      ]
     },
     "metadata": {
      "needs_background": "light"
     },
     "output_type": "display_data"
    },
    {
     "name": "stdout",
     "output_type": "stream",
     "text": [
      "Plotting PSTH for basket\n"
     ]
    },
    {
     "data": {
      "image/png": "[encoded data removed]",
      "text/plain": [
       "<Figure size 432x288 with 1 Axes>"
      ]
     },
     "metadata": {
      "needs_background": "light"
     },
     "output_type": "display_data"
    },
    {
     "name": "stdout",
     "output_type": "stream",
     "text": [
      "Plotting PSTH for dcn\n"
     ]
    },
    {
     "data": {
      "image/png": "[encoded data removed]",
      "text/plain": [
       "<Figure size 432x288 with 1 Axes>"
      ]
     },
     "metadata": {
      "needs_background": "light"
     },
     "output_type": "display_data"
    },
    {
     "name": "stdout",
     "output_type": "stream",
     "text": [
      "Plotting PSTH for purkinje\n"
     ]
    },
    {
     "data": {
      "image/png": "[encoded data removed]",
      "text/plain": [
       "<Figure size 432x288 with 1 Axes>"
      ]
     },
     "metadata": {
      "needs_background": "light"
     },
     "output_type": "display_data"
    },
    {
     "name": "stdout",
     "output_type": "stream",
     "text": [
      "Plotting PSTH for stellate\n"
     ]
    },
    {
     "data": {
      "image/png": "[encoded data removed]",
      "text/plain": [
       "<Figure size 432x288 with 1 Axes>"
      ]
     },
     "metadata": {
      "needs_background": "light"
     },
     "output_type": "display_data"
    }
   ],
   "source": [
    "for cell in cell_type:\n",
    "    print(\"Plotting PSTH for\", cell)\n",
    "    plot_psth(cell, '400')"
   ]
  },
  {
   "cell_type": "code",
   "execution_count": null,
   "metadata": {},
   "outputs": [],
   "source": []
  }
 ],
 "metadata": {
  "kernelspec": {
   "display_name": "Python 3",
   "language": "python",
   "name": "python3"
  },
  "language_info": {
   "codemirror_mode": {
    "name": "ipython",
    "version": 3
   },
   "file_extension": ".py",
   "mimetype": "text/x-python",
   "name": "python",
   "nbconvert_exporter": "python",
   "pygments_lexer": "ipython3",
   "version": "3.5.2"
  }
 },
 "nbformat": 4,
 "nbformat_minor": 2
}
